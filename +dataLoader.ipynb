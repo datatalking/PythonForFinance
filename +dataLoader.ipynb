{
 "cells": [
  {
   "cell_type": "code",
   "execution_count": 3,
   "metadata": {},
   "outputs": [],
   "source": [
    "#\n",
    "# Formating stock data from files into a dataframe\n",
    "#\n",
    "import numpy as np\n",
    "import pandas as pd\n",
    "\n",
    "path0 = './data/daily/us/nasdaq stocks/1/amzn.us.txt'\n",
    "path1 = './data/daily/us/nasdaq stocks/2/msft.us.txt'\n",
    "path2 = './data/daily/us/nasdaq stocks/1/aapl.us.txt'\n",
    "path3 = './data/daily/us/nasdaq stocks/1/intc.us.txt'\n",
    "path4 = './data/daily/us/nyse stocks/1/gs_n.us.txt'\n",
    "path5 = './data/daily/us/nyse etfs/spy.us.txt'\n",
    "path6 = './data/daily/us/nyse etfs/ivv.us.txt' #etf simulates SPX index\n",
    "path7 = './data/daily/us/nyse etfs/vxx.us.txt' #etf simulates VIX index\n",
    "path8 = './data/daily/world/commodities cash/eu.c.txt'\n",
    "path9 = './data/daily/world/currencies/major/xauusd.txt' #stand-in for XAU index\n",
    "path10 = './data/daily/us/nyse etfs/gdx.us.txt'\n",
    "path11 = './data/daily/us/nyse etfs/gld.us.txt'\n",
    "\n",
    "filename = [path0, path1, path2, path3, path4, path5, path6, \\\n",
    "            path7, path8, path9, path10, path11]\n",
    "\n",
    "for i in [0, 1, 2, 3, 4, 5, 6, 7, 8, 9, 10, 11]:\n",
    "    data = pd.read_csv(filename[i], index_col=2, parse_dates=True)\n",
    "    closePrice = data['<CLOSE>']\n",
    "    closePriceYear = closePrice.loc['2020']\n",
    "    \n",
    "    symbol_long = filename[i].split('/')\n",
    "    symbol = symbol_long[-1]\n",
    "    \n",
    "    closePriceYear.rename(symbol, inplace=True)\n",
    "    \n",
    "    if i==0:\n",
    "        closePriceSymbolList = pd.DataFrame(data=closePriceYear)\n",
    "    closePriceSymbolList.loc[:,symbol] = closePriceYear\n",
    "    \n",
    "closePriceSymbolList.head()\n",
    "\n",
    "closePriceSymbolList.to_csv(path_or_buf='./data.csv')"
   ]
  },
  {
   "cell_type": "code",
   "execution_count": null,
   "metadata": {},
   "outputs": [],
   "source": []
  }
 ],
 "metadata": {
  "kernelspec": {
   "display_name": "Python 3",
   "language": "python",
   "name": "python3"
  },
  "language_info": {
   "codemirror_mode": {
    "name": "ipython",
    "version": 3
   },
   "file_extension": ".py",
   "mimetype": "text/x-python",
   "name": "python",
   "nbconvert_exporter": "python",
   "pygments_lexer": "ipython3",
   "version": "3.8.3"
  }
 },
 "nbformat": 4,
 "nbformat_minor": 4
}
